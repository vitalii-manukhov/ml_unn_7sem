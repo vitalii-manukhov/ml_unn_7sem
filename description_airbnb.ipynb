{
 "cells": [
  {
   "cell_type": "markdown",
   "metadata": {},
   "source": [
    "# Название"
   ]
  },
  {
   "cell_type": "markdown",
   "metadata": {},
   "source": [
    "https://www.kaggle.com/datasets/whenamancodes/london-uk-airbnb-open-data  \n",
    "eng: London UK Airbnb Open Data. Airbnb listings and metrics in London UK 2022  \n",
    "rus: Открытые данные Airbnb в Лондоне, Великобритания. Airbnb списки и показатели (метрики) в Лондоне, Великобритания, 2022 год"
   ]
  },
  {
   "cell_type": "markdown",
   "metadata": {},
   "source": [
    "### Категории набора данных:\n",
    "- бизнес (business)  \n",
    "- исследовательский анализ данных (exploratory data analysis)\n",
    "- отели и жилые помещения\n",
    "- геопространственный анализ (geospatial analysis)  \n",
    "- жилье"
   ]
  },
  {
   "cell_type": "markdown",
   "metadata": {},
   "source": [
    "# Описание"
   ]
  },
  {
   "cell_type": "markdown",
   "metadata": {},
   "source": [
    "Перевод: С 2008 года гости (guests) и хозяева (hosts) используют сервис Airbnb, что расширить возможности путешествий и предложить более уникальный и персонализированный способ познания мира. Этот набор данных описывает листинговую активность (listing activity), т.е. насколько активно размещаются объявления и показатели (metrics) в Лондоне, Великобритания, в 2022 году.   "
   ]
  },
  {
   "cell_type": "markdown",
   "metadata": {},
   "source": [
    "# Содержание"
   ]
  },
  {
   "cell_type": "markdown",
   "metadata": {},
   "source": [
    "- `'id'` - идентификатор объявления **(числовой)**\n",
    "- `'name'` - название объявления **(строковый)**\n",
    "- `'host_id'` - идентификатор хозяина помещения (объявления) **(числовой)**\n",
    "- `'host_name'` - имя хозяина **(категориальный)**\n",
    "- `'neighbourhood'` - район (боро, за исключением Лондон-сити) Лондона **(категориальный)**\n",
    "- `'latitude'` и 'longitude' - широта и долгота (координаты) жилого помещения **(числовой)**\n",
    "- `'price'` - Цена аренды за день **(числовой)**\n",
    "- `'minimum_nights'` - минимальное количество ночей аренды **(числовой)**\n",
    "- `'number_of_reviews'` - количество отзывов **(числовой)**\n",
    "- `'last_review'` - дата последнего отзыва **(категориальный - тип данных 'str')** \n",
    "- `'reviews_per_month'` - количество отзывов в месяц **(числовой)**\n",
    "- `'calculated_host_listings_count'` - подсчитанное число объявлений хозяина данного объявления **(числовой)**\n",
    "- `'availability_365'` - доступность объявления дней в году **(числовой)**\n",
    "- `'number_of_reviews_ltm'` - **(числовой)**\n",
    "- `'room_type'` - целевой признак - тип сдаваемого жилого помещения **(категориальный)**"
   ]
  },
  {
   "cell_type": "markdown",
   "metadata": {},
   "source": [
    "# Вдохновляющие идеи для изучения этого набора данных (inspiration)"
   ]
  },
  {
   "cell_type": "markdown",
   "metadata": {},
   "source": [
    "Что мы можем узнать о разных хозяевах (hosts) и местах (areas)?  \n",
    "Что мы можем предсказывать? (ex: locations, prices, reviews, etc)  \n",
    "Какие хозяева самые нагруженные и почему?  \n",
    "Есть ли какая нибудь разница в траффике между разными районами и если да, то почему она возникает?"
   ]
  },
  {
   "cell_type": "markdown",
   "metadata": {},
   "source": [
    "# Задача"
   ]
  },
  {
   "cell_type": "markdown",
   "metadata": {},
   "source": [
    "Поставлена задача классификации. Целевой признак - 'room_type' - тип жилого помещения, которое сдается в аренду. Всего имеется 4 несбалансированных класса."
   ]
  }
 ],
 "metadata": {
  "kernelspec": {
   "display_name": "Python 3.9.10 ('env': venv)",
   "language": "python",
   "name": "python3"
  },
  "language_info": {
   "name": "python",
   "version": "3.9.10"
  },
  "orig_nbformat": 4,
  "vscode": {
   "interpreter": {
    "hash": "8cbc53d109cf7196c67bce5005cfb4de76b64b1842e7ba2c02e0ddf1e7b259f3"
   }
  }
 },
 "nbformat": 4,
 "nbformat_minor": 2
}
